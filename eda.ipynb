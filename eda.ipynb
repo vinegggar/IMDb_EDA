{
 "cells": [
  {
   "cell_type": "markdown",
   "metadata": {},
   "source": [
    "# Introduction\n",
    "\n",
    "The IMDb Top 250 list represents a curated selection of highly acclaimed films that have garnered worldwide recognition. This solo project undertakes an exploratory data analysis (EDA) of the IMDb Top 250 movies from 1996 to 2021. The objective is to uncover patterns and insights that contribute to the enduring brilliance of these cinematic masterpieces.\n",
    "\n",
    "Using statistical techniques, data visualization, and thorough data exploration, this analysis aims to address key inquiries related to genre dominance, rating trends, director influence, correlations between release years and rankings, as well as the presence of outliers. By doing so, it seeks to enhance our understanding of the art of filmmaking and provide valuable insights into the evolving preferences of audiences over time.\n",
    "\n",
    "\n",
    "Here are few questions that will be answered throughout the project:\n",
    "\n",
    "- What is the distribution of movie genres in the IMDb Top 250 dataset? How has it changed throughout the years?\n",
    "- How does Runtime distribution look like?\n",
    "- Is there a relationship between the runtime of a movie and its IMDb rating? Which relationships arise in general and how strong are they?\n",
    "- Who are the most frequently appearing actors or directors in the IMDb Top 250 movies?\n",
    "\n",
    "**Data Sources**\n",
    "\n",
    "`imdbTop250.csv` was provided via Kaggle (https://www.kaggle.com/datasets/mustafacicek/imdb-top-250-lists-1996-2020/code)"
   ]
  },
  {
   "cell_type": "markdown",
   "metadata": {},
   "source": [
    "## Importing modules"
   ]
  },
  {
   "cell_type": "code",
   "execution_count": 1,
   "metadata": {
    "ExecuteTime": {
     "end_time": "2023-06-20T18:15:23.900565500Z",
     "start_time": "2023-06-20T18:15:23.434812500Z"
    }
   },
   "outputs": [],
   "source": [
    "import pandas as pd\n",
    "import numpy as np\n",
    "from matplotlib import pyplot as plt, animation\n",
    "from sklearn.impute import SimpleImputer\n",
    "import seaborn as sns\n",
    "%matplotlib notebook\n",
    "%matplotlib inline"
   ]
  },
  {
   "cell_type": "markdown",
   "metadata": {},
   "source": [
    "## Load the data\n",
    "\n",
    "#### imdbTop250\n",
    "\n",
    "`imdbTop250.csv` contains information on the different movies which were listed on TOP-250 IMDB rankings from 1996 to 2020"
   ]
  },
  {
   "cell_type": "code",
   "execution_count": 2,
   "metadata": {
    "ExecuteTime": {
     "end_time": "2023-06-20T18:15:23.964397200Z",
     "start_time": "2023-06-20T18:15:23.903558700Z"
    }
   },
   "outputs": [
    {
     "data": {
      "text/html": [
       "<div>\n",
       "<style scoped>\n",
       "    .dataframe tbody tr th:only-of-type {\n",
       "        vertical-align: middle;\n",
       "    }\n",
       "\n",
       "    .dataframe tbody tr th {\n",
       "        vertical-align: top;\n",
       "    }\n",
       "\n",
       "    .dataframe thead th {\n",
       "        text-align: right;\n",
       "    }\n",
       "</style>\n",
       "<table border=\"1\" class=\"dataframe\">\n",
       "  <thead>\n",
       "    <tr style=\"text-align: right;\">\n",
       "      <th></th>\n",
       "      <th>Ranking</th>\n",
       "      <th>IMDByear</th>\n",
       "      <th>IMDBlink</th>\n",
       "      <th>Title</th>\n",
       "      <th>Date</th>\n",
       "      <th>RunTime</th>\n",
       "      <th>Genre</th>\n",
       "      <th>Rating</th>\n",
       "      <th>Score</th>\n",
       "      <th>Votes</th>\n",
       "      <th>Gross</th>\n",
       "      <th>Director</th>\n",
       "      <th>Cast1</th>\n",
       "      <th>Cast2</th>\n",
       "      <th>Cast3</th>\n",
       "      <th>Cast4</th>\n",
       "    </tr>\n",
       "  </thead>\n",
       "  <tbody>\n",
       "    <tr>\n",
       "      <th>0</th>\n",
       "      <td>1</td>\n",
       "      <td>1996</td>\n",
       "      <td>/title/tt0076759/</td>\n",
       "      <td>Star Wars: Episode IV - A New Hope</td>\n",
       "      <td>1977</td>\n",
       "      <td>121</td>\n",
       "      <td>Action, Adventure, Fantasy</td>\n",
       "      <td>8.6</td>\n",
       "      <td>90.0</td>\n",
       "      <td>1299781</td>\n",
       "      <td>322.74</td>\n",
       "      <td>George Lucas</td>\n",
       "      <td>Mark Hamill</td>\n",
       "      <td>Harrison Ford</td>\n",
       "      <td>Carrie Fisher</td>\n",
       "      <td>Alec Guinness</td>\n",
       "    </tr>\n",
       "    <tr>\n",
       "      <th>1</th>\n",
       "      <td>2</td>\n",
       "      <td>1996</td>\n",
       "      <td>/title/tt0111161/</td>\n",
       "      <td>The Shawshank Redemption</td>\n",
       "      <td>1994</td>\n",
       "      <td>142</td>\n",
       "      <td>Drama</td>\n",
       "      <td>9.3</td>\n",
       "      <td>80.0</td>\n",
       "      <td>2529673</td>\n",
       "      <td>28.34</td>\n",
       "      <td>Frank Darabont</td>\n",
       "      <td>Tim Robbins</td>\n",
       "      <td>Morgan Freeman</td>\n",
       "      <td>Bob Gunton</td>\n",
       "      <td>William Sadler</td>\n",
       "    </tr>\n",
       "    <tr>\n",
       "      <th>2</th>\n",
       "      <td>3</td>\n",
       "      <td>1996</td>\n",
       "      <td>/title/tt0117951/</td>\n",
       "      <td>Trainspotting</td>\n",
       "      <td>1996</td>\n",
       "      <td>93</td>\n",
       "      <td>Drama</td>\n",
       "      <td>8.1</td>\n",
       "      <td>83.0</td>\n",
       "      <td>665213</td>\n",
       "      <td>16.50</td>\n",
       "      <td>Danny Boyle</td>\n",
       "      <td>Ewan McGregor</td>\n",
       "      <td>Ewen Bremner</td>\n",
       "      <td>Jonny Lee Miller</td>\n",
       "      <td>Kevin McKidd</td>\n",
       "    </tr>\n",
       "    <tr>\n",
       "      <th>3</th>\n",
       "      <td>4</td>\n",
       "      <td>1996</td>\n",
       "      <td>/title/tt0114814/</td>\n",
       "      <td>The Usual Suspects</td>\n",
       "      <td>1995</td>\n",
       "      <td>106</td>\n",
       "      <td>Crime, Drama, Mystery</td>\n",
       "      <td>8.5</td>\n",
       "      <td>77.0</td>\n",
       "      <td>1045626</td>\n",
       "      <td>23.34</td>\n",
       "      <td>Bryan Singer</td>\n",
       "      <td>Kevin Spacey</td>\n",
       "      <td>Gabriel Byrne</td>\n",
       "      <td>Chazz Palminteri</td>\n",
       "      <td>Stephen Baldwin</td>\n",
       "    </tr>\n",
       "    <tr>\n",
       "      <th>4</th>\n",
       "      <td>5</td>\n",
       "      <td>1996</td>\n",
       "      <td>/title/tt0108598/</td>\n",
       "      <td>The Wrong Trousers</td>\n",
       "      <td>1993</td>\n",
       "      <td>30</td>\n",
       "      <td>Animation, Short, Comedy</td>\n",
       "      <td>8.3</td>\n",
       "      <td>NaN</td>\n",
       "      <td>53316</td>\n",
       "      <td>NaN</td>\n",
       "      <td>Nick Park</td>\n",
       "      <td>Peter Sallis</td>\n",
       "      <td>Peter Hawkins</td>\n",
       "      <td>NaN</td>\n",
       "      <td>NaN</td>\n",
       "    </tr>\n",
       "  </tbody>\n",
       "</table>\n",
       "</div>"
      ],
      "text/plain": [
       "   Ranking  IMDByear           IMDBlink                               Title  \\\n",
       "0        1      1996  /title/tt0076759/  Star Wars: Episode IV - A New Hope   \n",
       "1        2      1996  /title/tt0111161/            The Shawshank Redemption   \n",
       "2        3      1996  /title/tt0117951/                       Trainspotting   \n",
       "3        4      1996  /title/tt0114814/                  The Usual Suspects   \n",
       "4        5      1996  /title/tt0108598/                  The Wrong Trousers   \n",
       "\n",
       "   Date  RunTime                       Genre  Rating  Score    Votes   Gross  \\\n",
       "0  1977      121  Action, Adventure, Fantasy     8.6   90.0  1299781  322.74   \n",
       "1  1994      142                       Drama     9.3   80.0  2529673   28.34   \n",
       "2  1996       93                       Drama     8.1   83.0   665213   16.50   \n",
       "3  1995      106       Crime, Drama, Mystery     8.5   77.0  1045626   23.34   \n",
       "4  1993       30    Animation, Short, Comedy     8.3    NaN    53316     NaN   \n",
       "\n",
       "         Director           Cast1             Cast2               Cast3  \\\n",
       "0    George Lucas     Mark Hamill     Harrison Ford       Carrie Fisher   \n",
       "1  Frank Darabont     Tim Robbins    Morgan Freeman          Bob Gunton   \n",
       "2     Danny Boyle   Ewan McGregor      Ewen Bremner    Jonny Lee Miller   \n",
       "3    Bryan Singer    Kevin Spacey     Gabriel Byrne    Chazz Palminteri   \n",
       "4       Nick Park    Peter Sallis     Peter Hawkins                 NaN   \n",
       "\n",
       "               Cast4  \n",
       "0      Alec Guinness  \n",
       "1     William Sadler  \n",
       "2       Kevin McKidd  \n",
       "3    Stephen Baldwin  \n",
       "4                NaN  "
      ]
     },
     "execution_count": 2,
     "metadata": {},
     "output_type": "execute_result"
    }
   ],
   "source": [
    "movies = pd.read_csv('imdbTop250.csv')\n",
    "movies.head(5)"
   ]
  },
  {
   "cell_type": "markdown",
   "metadata": {},
   "source": [
    "## Checking for missing data and cleaning"
   ]
  },
  {
   "cell_type": "code",
   "execution_count": 3,
   "metadata": {
    "ExecuteTime": {
     "end_time": "2023-06-20T18:15:23.980353100Z",
     "start_time": "2023-06-20T18:15:23.964397200Z"
    }
   },
   "outputs": [
    {
     "name": "stdout",
     "output_type": "stream",
     "text": [
      "Ranking       0\n",
      "IMDByear      0\n",
      "IMDBlink      0\n",
      "Title         0\n",
      "Date          0\n",
      "RunTime       0\n",
      "Genre         0\n",
      "Rating        0\n",
      "Score       826\n",
      "Votes         0\n",
      "Gross       809\n",
      "Director      0\n",
      "Cast1         0\n",
      "Cast2         0\n",
      "Cast3         8\n",
      "Cast4         8\n",
      "dtype: int64\n"
     ]
    }
   ],
   "source": [
    "null_counts = movies.isnull().sum()\n",
    "print(null_counts)"
   ]
  },
  {
   "cell_type": "markdown",
   "metadata": {},
   "source": [
    "There are some columns where Cast3 and Cast4 info is missing. However, the amount of those is not significant compared to size of dataset, so we can just omit the rows where data is missing"
   ]
  },
  {
   "cell_type": "code",
   "execution_count": 4,
   "metadata": {
    "ExecuteTime": {
     "end_time": "2023-06-20T18:15:24.077094100Z",
     "start_time": "2023-06-20T18:15:23.985340800Z"
    }
   },
   "outputs": [
    {
     "name": "stdout",
     "output_type": "stream",
     "text": [
      "Ranking       0\n",
      "IMDByear      0\n",
      "IMDBlink      0\n",
      "Title         0\n",
      "Date          0\n",
      "RunTime       0\n",
      "Genre         0\n",
      "Rating        0\n",
      "Score       818\n",
      "Votes         0\n",
      "Gross       801\n",
      "Director      0\n",
      "Cast1         0\n",
      "Cast2         0\n",
      "Cast3         0\n",
      "Cast4         0\n",
      "dtype: int64\n"
     ]
    }
   ],
   "source": [
    "columns_to_drop = ['Cast3', 'Cast4']\n",
    "movies = movies.dropna(subset=columns_to_drop)\n",
    "print(movies.isnull().sum())"
   ]
  },
  {
   "cell_type": "markdown",
   "metadata": {},
   "source": [
    "In the dataset, it is observed that there are quite a lot of missing values in the \"Score\" and \"Gross\" columns. These missing values could potentially impact the analysis results. Therefore, it is better to perform imputation to fill in the missing values in these columns. By imputing the missing values, we can ensure a more comprehensive and accurate analysis of the dataset."
   ]
  },
  {
   "cell_type": "code",
   "execution_count": 5,
   "metadata": {
    "ExecuteTime": {
     "end_time": "2023-06-20T18:15:24.133942800Z",
     "start_time": "2023-06-20T18:15:24.008278700Z"
    }
   },
   "outputs": [
    {
     "name": "stdout",
     "output_type": "stream",
     "text": [
      "Ranking     0\n",
      "IMDByear    0\n",
      "IMDBlink    0\n",
      "Title       0\n",
      "Date        0\n",
      "RunTime     0\n",
      "Genre       0\n",
      "Rating      0\n",
      "Score       0\n",
      "Votes       0\n",
      "Gross       0\n",
      "Director    0\n",
      "Cast1       0\n",
      "Cast2       0\n",
      "Cast3       0\n",
      "Cast4       0\n",
      "dtype: int64\n"
     ]
    }
   ],
   "source": [
    "imputer = SimpleImputer(strategy='median')\n",
    "#movies[['Gross', 'Score']] = imputer.fit_transform(movies[['Gross', 'Score']]) - variation with excessive copying\n",
    "columns_to_impute = ['Gross', 'Score']\n",
    "movies.loc[:, columns_to_impute] = imputer.fit_transform(movies[columns_to_impute])\n",
    "print(movies.isnull().sum())"
   ]
  },
  {
   "cell_type": "markdown",
   "metadata": {},
   "source": [
    "## Explore the data"
   ]
  },
  {
   "cell_type": "markdown",
   "metadata": {},
   "source": [
    "#### Number of distinct movies in rating "
   ]
  },
  {
   "cell_type": "code",
   "execution_count": 6,
   "metadata": {
    "ExecuteTime": {
     "end_time": "2023-06-20T18:15:24.135936400Z",
     "start_time": "2023-06-20T18:15:24.034209100Z"
    }
   },
   "outputs": [
    {
     "data": {
      "text/plain": [
       "742"
      ]
     },
     "execution_count": 6,
     "metadata": {},
     "output_type": "execute_result"
    }
   ],
   "source": [
    "movies.IMDBlink.nunique()"
   ]
  },
  {
   "cell_type": "markdown",
   "metadata": {},
   "source": [
    "Obviously, there are movies which are included in the list throughout the years.\n",
    "#### Let's see which movies were included in the top *every* year from 1996 to 2021"
   ]
  },
  {
   "cell_type": "code",
   "execution_count": 7,
   "metadata": {
    "ExecuteTime": {
     "end_time": "2023-06-20T18:15:24.136935700Z",
     "start_time": "2023-06-20T18:15:24.050165400Z"
    }
   },
   "outputs": [
    {
     "name": "stdout",
     "output_type": "stream",
     "text": [
      "amount of all time favorite movies: 78\n",
      "\n",
      "Star Wars: Episode IV - A New Hope\n",
      "Cool Hand Luke\n",
      "Psycho\n",
      "The Godfather: Part II\n",
      "Unforgiven\n",
      "The Third Man\n",
      "Ben-Hur\n",
      "The Great Dictator\n",
      "Alien\n",
      "Die Hard\n",
      "Indiana Jones and the Last Crusade\n",
      "Vertigo\n",
      "The Silence of the Lambs\n",
      "On the Waterfront\n",
      "Taxi Driver\n",
      "Cinema Paradiso\n",
      "Once Upon a Time in the West\n",
      "Star Wars: Episode VI - Return of the Jedi\n",
      "Goodfellas\n",
      "Rashomon\n",
      "Apocalypse Now\n",
      "North by Northwest\n",
      "Lawrence of Arabia\n",
      "Back to the Future\n",
      "Forrest Gump\n",
      "To Kill a Mockingbird\n",
      "Full Metal Jacket\n",
      "Metropolis\n",
      "Das Boot\n",
      "The Seventh Seal\n",
      "The Sting\n",
      "Some Like It Hot\n",
      "Life of Brian\n",
      "Raging Bull\n",
      "The Deer Hunter\n",
      "Chinatown\n",
      "The Bridge on the River Kwai\n",
      "Amadeus\n",
      "Stand by Me\n",
      "Singin' in the Rain\n",
      "Gone with the Wind\n",
      "The Treasure of the Sierra Madre\n",
      "Once Upon a Time in America\n",
      "The Shining\n",
      "Terminator 2: Judgment Day\n",
      "The Gold Rush\n",
      "The Great Escape\n",
      "Ran\n",
      "12 Angry Men\n",
      "Modern Times\n",
      "Reservoir Dogs\n",
      "Fargo\n",
      "Pulp Fiction\n",
      "2001: A Space Odyssey\n",
      "Casablanca\n",
      "The Princess Bride\n",
      "Léon: The Professional\n",
      "Star Wars: Episode V - The Empire Strikes Back\n",
      "Seven Samurai\n",
      "Blade Runner\n",
      "The Usual Suspects\n",
      "One Flew Over the Cuckoo's Nest\n",
      "Toy Story\n",
      "Schindler's List\n",
      "The Shawshank Redemption\n",
      "Braveheart\n",
      "Citizen Kane\n",
      "The Godfather\n",
      "Indiana Jones and the Raiders of the Lost Ark\n",
      "Dr. Strangelove or: How I Learned to Stop Worrying and Love the Bomb\n",
      "Trainspotting\n",
      "Monty Python and the Holy Grail\n",
      "Rear Window\n",
      "Se7en\n",
      "It's a Wonderful Life\n",
      "Aliens\n",
      "The Good, the Bad and the Ugly\n",
      "A Clockwork Orange\n"
     ]
    }
   ],
   "source": [
    "table = movies['Title'].value_counts()\n",
    "print(f'amount of all time favorite movies: {len(table[table==26])}\\n')\n",
    "for i in range(len(table[table==26])):\n",
    "    print(table.index[i])"
   ]
  },
  {
   "cell_type": "markdown",
   "metadata": {},
   "source": [
    "#### It would be interesting to see whether there's a relationship between movie being all time favorite and its IMDb ranking"
   ]
  },
  {
   "cell_type": "code",
   "execution_count": 8,
   "metadata": {
    "ExecuteTime": {
     "end_time": "2023-06-20T18:15:24.284538900Z",
     "start_time": "2023-06-20T18:15:24.055153100Z"
    }
   },
   "outputs": [
    {
     "data": {
      "text/plain": [
       "<AxesSubplot:xlabel='all26', ylabel='Ranking'>"
      ]
     },
     "execution_count": 8,
     "metadata": {},
     "output_type": "execute_result"
    },
    {
     "data": {
      "image/png": "[encoded data removed]",
      "text/plain": [
       "<Figure size 432x288 with 1 Axes>"
      ]
     },
     "metadata": {
      "needs_background": "light"
     },
     "output_type": "display_data"
    }
   ],
   "source": [
    "movies.loc[movies['Title'].isin(table[table == 26].index), 'all26'] = 1\n",
    "movies.loc[~movies['Title'].isin(table[table == 26].index), 'all26'] = 0\n",
    "sns.boxplot(x='all26', y='Ranking', data=movies, palette='pastel')"
   ]
  },
  {
   "cell_type": "markdown",
   "metadata": {},
   "source": [
    "Indeed, there is a clear association between these two values. Movies that have consistently ranked in the top 250 across all years tend to have a lower median ranking, around 75. On the other hand, movies that did not make it to the top 250 have a higher median ranking, around 160. This suggests that being an all-time favorite among IMDb users is closely related to achieving a higher ranking in the IMDb Top 250 list."
   ]
  },
  {
   "cell_type": "markdown",
   "metadata": {},
   "source": [
    "#### Defining which movies were top-10 every year and search for some tendency"
   ]
  },
  {
   "cell_type": "code",
   "execution_count": 9,
   "metadata": {
    "ExecuteTime": {
     "end_time": "2023-06-20T18:15:24.284538900Z",
     "start_time": "2023-06-20T18:15:24.177824900Z"
    }
   },
   "outputs": [],
   "source": [
    "top10 = lambda year: movies[movies['IMDByear'] == year].sort_values(by='Ranking', ascending=True).head(10)\n",
    "#for each movie who was in top 10 in any year assign a random color\n",
    "colors = {title: np.random.rand(3,) for title in movies['Title'].unique()}\n",
    "def update(year):\n",
    "    data = top10(year)\n",
    "    ax.clear()\n",
    "    ax.barh(data['Title'], data['Rating'], color=[colors[title] for title in data['Title']])\n",
    "    ax.bar_label(ax.containers[0], fmt='%.1f')\n",
    "    #inversing the y-axis to put movies with higher ranking above ones without\n",
    "    ax.invert_yaxis()\n",
    "    plt.title(f'Top 10 movies of {year} and their rating')\n",
    "    plt.xlabel('Title')\n",
    "    plt.ylabel('Ranking')"
   ]
  },
  {
   "cell_type": "code",
   "execution_count": 10,
   "metadata": {
    "ExecuteTime": {
     "end_time": "2023-06-20T18:15:24.286533500Z",
     "start_time": "2023-06-20T18:15:24.191787600Z"
    }
   },
   "outputs": [
    {
     "data": {
      "image/png": "[encoded data removed]",
      "text/plain": [
       "<Figure size 432x288 with 1 Axes>"
      ]
     },
     "metadata": {
      "needs_background": "light"
     },
     "output_type": "display_data"
    }
   ],
   "source": [
    "fig, ax = plt.subplots()\n",
    "animator = animation.FuncAnimation(fig, update, frames=range(1996, 2022), interval=500)\n",
    "plt.show()"
   ]
  },
  {
   "cell_type": "markdown",
   "metadata": {},
   "source": [
    "There is a strong prevalence of certain films like \"The Shawshank Redemption\" and \"The Godfather\" in the top of IMDb250 list. These movies consistently maintain high rankings across multiple years, indicating their enduring popularity and recognition among IMDb users. Their consistent presence in the top rankings suggests that they are widely regarded as exceptional films with enduring appeal."
   ]
  },
  {
   "cell_type": "markdown",
   "metadata": {},
   "source": [
    "#### Genres distribution across the years"
   ]
  },
  {
   "cell_type": "code",
   "execution_count": 11,
   "metadata": {
    "ExecuteTime": {
     "end_time": "2023-06-20T18:15:24.345376600Z",
     "start_time": "2023-06-20T18:15:24.234672300Z"
    }
   },
   "outputs": [],
   "source": [
    "genre_set = set()\n",
    "for i in range(len(movies)):\n",
    "    genres = movies['Genre'].iloc[i].strip().split(', ')\n",
    "    for genre in genres:\n",
    "        genre_set.add(genre)"
   ]
  },
  {
   "cell_type": "code",
   "execution_count": 12,
   "metadata": {
    "ExecuteTime": {
     "end_time": "2023-06-20T18:15:25.122299300Z",
     "start_time": "2023-06-20T18:15:24.327424800Z"
    }
   },
   "outputs": [
    {
     "data": {
      "image/png": "[encoded data removed]",
      "text/plain": [
       "<Figure size 720x720 with 4 Axes>"
      ]
     },
     "metadata": {
      "needs_background": "light"
     },
     "output_type": "display_data"
    }
   ],
   "source": [
    "fig, axs = plt.subplots(2, 2, figsize=(10, 10))\n",
    "for year in range(1996, 2022, 7):\n",
    "    data = movies[movies['IMDByear'] == year]\n",
    "    genre_dict = {genre: data['Genre'].str.contains(genre).sum() for genre in genre_set}\n",
    "    genre_dict = dict(sorted(genre_dict.items(), key=lambda item: item[1], reverse=True))\n",
    "    row = ((year - 1996) // 7) // 2\n",
    "    col = ((year - 1996) // 7) % 2\n",
    "    axs[row, col].bar(genre_dict.keys(), genre_dict.values(), color='lightblue')\n",
    "    axs[row, col].set_title(f'Genre distribution in {year}')\n",
    "    axs[row, col].set_xlabel('Genre')\n",
    "    axs[row, col].set_ylabel('Count')\n",
    "    axs[row, col].tick_params(axis='x', rotation=90)\n",
    "plt.tight_layout()"
   ]
  },
  {
   "cell_type": "code",
   "execution_count": null,
   "metadata": {
    "ExecuteTime": {
     "end_time": "2023-06-20T18:15:25.128282300Z",
     "start_time": "2023-06-20T18:15:25.123296700Z"
    }
   },
   "outputs": [],
   "source": []
  },
  {
   "cell_type": "markdown",
   "metadata": {},
   "source": [
    "From the provided bar charts, it is evident that the drama has consistently been the most prevalent genre in the IMDb Top 250 list, appearing in around 170 out of 250 movies. Comedy held the second spot in popularity until the mid-2000s when it was replaced by crime as the second most popular genre. On the other hand, the least popular genres among the top movies were documentary, musicals, short movies, and  movies about sport.\" These genres had relatively fewer representations in the IMDb Top 250 list."
   ]
  },
  {
   "cell_type": "markdown",
   "metadata": {},
   "source": [
    "#### Deriving insights from duration info"
   ]
  },
  {
   "cell_type": "code",
   "execution_count": 13,
   "metadata": {
    "ExecuteTime": {
     "end_time": "2023-06-20T18:15:25.356672800Z",
     "start_time": "2023-06-20T18:15:25.129280200Z"
    }
   },
   "outputs": [
    {
     "data": {
      "text/plain": [
       "<seaborn.axisgrid.FacetGrid at 0x1c1da8743d0>"
      ]
     },
     "execution_count": 13,
     "metadata": {},
     "output_type": "execute_result"
    },
    {
     "data": {
      "image/png": "[encoded data removed]",
      "text/plain": [
       "<Figure size 360x360 with 1 Axes>"
      ]
     },
     "metadata": {
      "needs_background": "light"
     },
     "output_type": "display_data"
    }
   ],
   "source": [
    "unique_movies = movies.drop_duplicates(subset=['IMDBlink'])\n",
    "sns.displot(unique_movies['RunTime'], bins=50, kde=True)"
   ]
  },
  {
   "cell_type": "code",
   "execution_count": 14,
   "metadata": {
    "ExecuteTime": {
     "end_time": "2023-06-20T18:15:25.363653100Z",
     "start_time": "2023-06-20T18:15:25.357670200Z"
    }
   },
   "outputs": [
    {
     "name": "stdout",
     "output_type": "stream",
     "text": [
      "count    742.000000\n",
      "mean     122.673854\n",
      "std       30.035990\n",
      "min       16.000000\n",
      "25%      102.250000\n",
      "50%      119.000000\n",
      "75%      136.750000\n",
      "max      321.000000\n",
      "Name: RunTime, dtype: float64\n"
     ]
    }
   ],
   "source": [
    "print(unique_movies['RunTime'].describe())"
   ]
  },
  {
   "cell_type": "markdown",
   "metadata": {},
   "source": [
    "The analysis of the runtime data reveals that it may follow an approximately normal distribution, however data is a little bit scewed. We can perform hyphotesis test on the sample of movies durations."
   ]
  },
  {
   "cell_type": "code",
   "execution_count": 15,
   "metadata": {
    "ExecuteTime": {
     "end_time": "2023-06-20T18:15:25.424492800Z",
     "start_time": "2023-06-20T18:15:25.364652600Z"
    }
   },
   "outputs": [
    {
     "name": "stdout",
     "output_type": "stream",
     "text": [
      "Sample does not look Gaussian (reject H0)\n",
      "Sample does not look Gaussian (reject H0)\n"
     ]
    }
   ],
   "source": [
    "sample = unique_movies['RunTime']\n",
    "from scipy.stats import kstest, normaltest\n",
    "stat1, p1 = kstest(sample, 'norm', args=(sample.mean(),sample.std()))\n",
    "stat2, p2 = normaltest(sample)\n",
    "def perform_test(p):\n",
    "    if p > 0.05:\n",
    "        print('Sample looks Gaussian (fail to reject H0)')\n",
    "    else:\n",
    "        print('Sample does not look Gaussian (reject H0)')\n",
    "        \n",
    "perform_test(p1)\n",
    "perform_test(p2)"
   ]
  },
  {
   "cell_type": "markdown",
   "metadata": {},
   "source": [
    "Despite the visual appearance of the plot resembling a bell curve, there is evidence suggesting that the sample is not truly normally distributed. This conclusion is based on the results of statistical tests, which indicate that the observed data deviates significantly from a normal distribution. "
   ]
  },
  {
   "cell_type": "code",
   "execution_count": 24,
   "metadata": {
    "ExecuteTime": {
     "end_time": "2023-06-20T18:15:25.425490900Z",
     "start_time": "2023-06-20T18:15:25.381606100Z"
    }
   },
   "outputs": [
    {
     "data": {
      "image/png": "[encoded data removed]",
      "text/plain": [
       "<Figure size 432x288 with 1 Axes>"
      ]
     },
     "metadata": {
      "needs_background": "light"
     },
     "output_type": "display_data"
    }
   ],
   "source": [
    "sns.regplot(x='RunTime', y='Rating', data=movies, scatter=True).\\\n",
    "set_title(f'Correlation: {movies[\"RunTime\"].corr(movies[\"Rating\"]):.2f}')\n",
    "plt.show()"
   ]
  },
  {
   "cell_type": "markdown",
   "metadata": {
    "ExecuteTime": {
     "end_time": "2023-06-20T18:15:25.425490900Z",
     "start_time": "2023-06-20T18:15:25.391579200Z"
    }
   },
   "source": [
    "Upon examining the relationship between rating and runtime, it appears that there is a relatively weak correlation between the two variables. This suggests that the relationship between rating and runtime may not be strong enough to draw any definite conclusions."
   ]
  },
  {
   "cell_type": "code",
   "execution_count": null,
   "metadata": {},
   "outputs": [],
   "source": []
  }
 ],
 "metadata": {
  "kernelspec": {
   "display_name": "Python 3 (ipykernel)",
   "language": "python",
   "name": "python3"
  },
  "language_info": {
   "codemirror_mode": {
    "name": "ipython",
    "version": 3
   },
   "file_extension": ".py",
   "mimetype": "text/x-python",
   "name": "python",
   "nbconvert_exporter": "python",
   "pygments_lexer": "ipython3",
   "version": "3.10.0"
  }
 },
 "nbformat": 4,
 "nbformat_minor": 1
}
